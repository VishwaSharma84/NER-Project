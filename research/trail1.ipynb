{
 "cells": [
  {
   "cell_type": "code",
   "execution_count": 2,
   "metadata": {},
   "outputs": [
    {
     "name": "stderr",
     "output_type": "stream",
     "text": [
      "d:\\projects\\NER-Project\\env\\lib\\site-packages\\tqdm\\auto.py:21: TqdmWarning: IProgress not found. Please update jupyter and ipywidgets. See https://ipywidgets.readthedocs.io/en/stable/user_install.html\n",
      "  from .autonotebook import tqdm as notebook_tqdm\n"
     ]
    }
   ],
   "source": [
    "from datasets import load_dataset, get_dataset_config_names\n",
    "import pandas as pd"
   ]
  },
  {
   "cell_type": "code",
   "execution_count": 3,
   "metadata": {},
   "outputs": [],
   "source": [
    "ner_data_subset = get_dataset_config_names(\"xtreme\")"
   ]
  },
  {
   "cell_type": "code",
   "execution_count": 4,
   "metadata": {},
   "outputs": [
    {
     "data": {
      "text/plain": [
       "['PAN-X.af',\n",
       " 'PAN-X.ar',\n",
       " 'PAN-X.bg',\n",
       " 'PAN-X.bn',\n",
       " 'PAN-X.de',\n",
       " 'PAN-X.el',\n",
       " 'PAN-X.en',\n",
       " 'PAN-X.es',\n",
       " 'PAN-X.et',\n",
       " 'PAN-X.eu',\n",
       " 'PAN-X.fa',\n",
       " 'PAN-X.fi',\n",
       " 'PAN-X.fr',\n",
       " 'PAN-X.he',\n",
       " 'PAN-X.hi',\n",
       " 'PAN-X.hu',\n",
       " 'PAN-X.id',\n",
       " 'PAN-X.it',\n",
       " 'PAN-X.ja',\n",
       " 'PAN-X.jv',\n",
       " 'PAN-X.ka',\n",
       " 'PAN-X.kk',\n",
       " 'PAN-X.ko',\n",
       " 'PAN-X.ml',\n",
       " 'PAN-X.mr',\n",
       " 'PAN-X.ms',\n",
       " 'PAN-X.my',\n",
       " 'PAN-X.nl',\n",
       " 'PAN-X.pt',\n",
       " 'PAN-X.ru',\n",
       " 'PAN-X.sw',\n",
       " 'PAN-X.ta',\n",
       " 'PAN-X.te',\n",
       " 'PAN-X.th',\n",
       " 'PAN-X.tl',\n",
       " 'PAN-X.tr',\n",
       " 'PAN-X.ur',\n",
       " 'PAN-X.vi',\n",
       " 'PAN-X.yo',\n",
       " 'PAN-X.zh']"
      ]
     },
     "execution_count": 4,
     "metadata": {},
     "output_type": "execute_result"
    }
   ],
   "source": [
    "panx_subests = [s for s in ner_data_subset if s.startswith(\"PAN\")]\n",
    "panx_subests"
   ]
  },
  {
   "cell_type": "code",
   "execution_count": 5,
   "metadata": {},
   "outputs": [],
   "source": [
    "en = load_dataset(\"xtreme\", name=\"PAN-X.en\")"
   ]
  },
  {
   "cell_type": "code",
   "execution_count": 6,
   "metadata": {},
   "outputs": [
    {
     "data": {
      "text/plain": [
       "DatasetDict({\n",
       "    train: Dataset({\n",
       "        features: ['tokens', 'ner_tags', 'langs'],\n",
       "        num_rows: 20000\n",
       "    })\n",
       "    validation: Dataset({\n",
       "        features: ['tokens', 'ner_tags', 'langs'],\n",
       "        num_rows: 10000\n",
       "    })\n",
       "    test: Dataset({\n",
       "        features: ['tokens', 'ner_tags', 'langs'],\n",
       "        num_rows: 10000\n",
       "    })\n",
       "})"
      ]
     },
     "execution_count": 6,
     "metadata": {},
     "output_type": "execute_result"
    }
   ],
   "source": [
    "en"
   ]
  },
  {
   "cell_type": "code",
   "execution_count": 8,
   "metadata": {},
   "outputs": [
    {
     "data": {
      "text/html": [
       "<div>\n",
       "<style scoped>\n",
       "    .dataframe tbody tr th:only-of-type {\n",
       "        vertical-align: middle;\n",
       "    }\n",
       "\n",
       "    .dataframe tbody tr th {\n",
       "        vertical-align: top;\n",
       "    }\n",
       "\n",
       "    .dataframe thead th {\n",
       "        text-align: right;\n",
       "    }\n",
       "</style>\n",
       "<table border=\"1\" class=\"dataframe\">\n",
       "  <thead>\n",
       "    <tr style=\"text-align: right;\">\n",
       "      <th></th>\n",
       "      <th>0</th>\n",
       "      <th>1</th>\n",
       "      <th>2</th>\n",
       "      <th>3</th>\n",
       "      <th>4</th>\n",
       "      <th>5</th>\n",
       "      <th>6</th>\n",
       "      <th>7</th>\n",
       "      <th>8</th>\n",
       "      <th>9</th>\n",
       "      <th>10</th>\n",
       "    </tr>\n",
       "  </thead>\n",
       "  <tbody>\n",
       "    <tr>\n",
       "      <th>tokens</th>\n",
       "      <td>R.H.</td>\n",
       "      <td>Saunders</td>\n",
       "      <td>(</td>\n",
       "      <td>St.</td>\n",
       "      <td>Lawrence</td>\n",
       "      <td>River</td>\n",
       "      <td>)</td>\n",
       "      <td>(</td>\n",
       "      <td>968</td>\n",
       "      <td>MW</td>\n",
       "      <td>)</td>\n",
       "    </tr>\n",
       "    <tr>\n",
       "      <th>ner_tags</th>\n",
       "      <td>3</td>\n",
       "      <td>4</td>\n",
       "      <td>0</td>\n",
       "      <td>3</td>\n",
       "      <td>4</td>\n",
       "      <td>4</td>\n",
       "      <td>0</td>\n",
       "      <td>0</td>\n",
       "      <td>0</td>\n",
       "      <td>0</td>\n",
       "      <td>0</td>\n",
       "    </tr>\n",
       "    <tr>\n",
       "      <th>langs</th>\n",
       "      <td>en</td>\n",
       "      <td>en</td>\n",
       "      <td>en</td>\n",
       "      <td>en</td>\n",
       "      <td>en</td>\n",
       "      <td>en</td>\n",
       "      <td>en</td>\n",
       "      <td>en</td>\n",
       "      <td>en</td>\n",
       "      <td>en</td>\n",
       "      <td>en</td>\n",
       "    </tr>\n",
       "  </tbody>\n",
       "</table>\n",
       "</div>"
      ],
      "text/plain": [
       "            0         1   2    3         4      5   6   7    8   9   10\n",
       "tokens    R.H.  Saunders   (  St.  Lawrence  River   )   (  968  MW   )\n",
       "ner_tags     3         4   0    3         4      4   0   0    0   0   0\n",
       "langs       en        en  en   en        en     en  en  en   en  en  en"
      ]
     },
     "execution_count": 8,
     "metadata": {},
     "output_type": "execute_result"
    }
   ],
   "source": [
    "pd.DataFrame(en[\"train\"][0]).T"
   ]
  },
  {
   "cell_type": "code",
   "execution_count": 13,
   "metadata": {},
   "outputs": [
    {
     "data": {
      "text/plain": [
       "['O', 'B-PER', 'I-PER', 'B-ORG', 'I-ORG', 'B-LOC', 'I-LOC']"
      ]
     },
     "execution_count": 13,
     "metadata": {},
     "output_type": "execute_result"
    }
   ],
   "source": [
    "en[\"train\"].features[\"ner_tags\"].feature.names\n"
   ]
  },
  {
   "cell_type": "code",
   "execution_count": 10,
   "metadata": {},
   "outputs": [
    {
     "data": {
      "text/html": [
       "<div>\n",
       "<style scoped>\n",
       "    .dataframe tbody tr th:only-of-type {\n",
       "        vertical-align: middle;\n",
       "    }\n",
       "\n",
       "    .dataframe tbody tr th {\n",
       "        vertical-align: top;\n",
       "    }\n",
       "\n",
       "    .dataframe thead th {\n",
       "        text-align: right;\n",
       "    }\n",
       "</style>\n",
       "<table border=\"1\" class=\"dataframe\">\n",
       "  <thead>\n",
       "    <tr style=\"text-align: right;\">\n",
       "      <th></th>\n",
       "      <th>tokens</th>\n",
       "      <th>ner_tags</th>\n",
       "      <th>langs</th>\n",
       "    </tr>\n",
       "  </thead>\n",
       "  <tbody>\n",
       "    <tr>\n",
       "      <th>0</th>\n",
       "      <td>[R.H., Saunders, (, St., Lawrence, River, ), (...</td>\n",
       "      <td>[3, 4, 0, 3, 4, 4, 0, 0, 0, 0, 0]</td>\n",
       "      <td>[en, en, en, en, en, en, en, en, en, en, en]</td>\n",
       "    </tr>\n",
       "    <tr>\n",
       "      <th>1</th>\n",
       "      <td>[;, ', '', Anders, Lindström, '', ']</td>\n",
       "      <td>[0, 0, 0, 1, 2, 0, 0]</td>\n",
       "      <td>[en, en, en, en, en, en, en]</td>\n",
       "    </tr>\n",
       "    <tr>\n",
       "      <th>2</th>\n",
       "      <td>[Karl, Ove, Knausgård, (, born, 1968, )]</td>\n",
       "      <td>[1, 2, 2, 0, 0, 0, 0]</td>\n",
       "      <td>[en, en, en, en, en, en, en]</td>\n",
       "    </tr>\n",
       "    <tr>\n",
       "      <th>3</th>\n",
       "      <td>[Atlantic, City, ,, New, Jersey]</td>\n",
       "      <td>[5, 6, 6, 6, 6]</td>\n",
       "      <td>[en, en, en, en, en]</td>\n",
       "    </tr>\n",
       "    <tr>\n",
       "      <th>4</th>\n",
       "      <td>[Her, daughter, from, the, second, marriage, w...</td>\n",
       "      <td>[0, 0, 0, 0, 0, 0, 0, 1, 2, 0, 0, 0, 0, 0, 0, ...</td>\n",
       "      <td>[en, en, en, en, en, en, en, en, en, en, en, e...</td>\n",
       "    </tr>\n",
       "    <tr>\n",
       "      <th>...</th>\n",
       "      <td>...</td>\n",
       "      <td>...</td>\n",
       "      <td>...</td>\n",
       "    </tr>\n",
       "    <tr>\n",
       "      <th>19995</th>\n",
       "      <td>[Cicely, Courtneidge, ,, Ernest, Truex]</td>\n",
       "      <td>[1, 2, 0, 1, 2]</td>\n",
       "      <td>[en, en, en, en, en]</td>\n",
       "    </tr>\n",
       "    <tr>\n",
       "      <th>19996</th>\n",
       "      <td>[Aracaju, ,, Sergipe, ,, Brazil]</td>\n",
       "      <td>[5, 0, 5, 0, 5]</td>\n",
       "      <td>[en, en, en, en, en]</td>\n",
       "    </tr>\n",
       "    <tr>\n",
       "      <th>19997</th>\n",
       "      <td>[Louisville, in, the, American, Civil, War]</td>\n",
       "      <td>[5, 6, 6, 6, 6, 6]</td>\n",
       "      <td>[en, en, en, en, en, en]</td>\n",
       "    </tr>\n",
       "    <tr>\n",
       "      <th>19998</th>\n",
       "      <td>[16, (, David, Nugent, )]</td>\n",
       "      <td>[0, 0, 1, 2, 0]</td>\n",
       "      <td>[en, en, en, en, en]</td>\n",
       "    </tr>\n",
       "    <tr>\n",
       "      <th>19999</th>\n",
       "      <td>[List, of, regional, mammals, lists]</td>\n",
       "      <td>[3, 4, 4, 4, 4]</td>\n",
       "      <td>[en, en, en, en, en]</td>\n",
       "    </tr>\n",
       "  </tbody>\n",
       "</table>\n",
       "<p>20000 rows × 3 columns</p>\n",
       "</div>"
      ],
      "text/plain": [
       "                                                  tokens  \\\n",
       "0      [R.H., Saunders, (, St., Lawrence, River, ), (...   \n",
       "1                   [;, ', '', Anders, Lindström, '', ']   \n",
       "2               [Karl, Ove, Knausgård, (, born, 1968, )]   \n",
       "3                       [Atlantic, City, ,, New, Jersey]   \n",
       "4      [Her, daughter, from, the, second, marriage, w...   \n",
       "...                                                  ...   \n",
       "19995            [Cicely, Courtneidge, ,, Ernest, Truex]   \n",
       "19996                   [Aracaju, ,, Sergipe, ,, Brazil]   \n",
       "19997        [Louisville, in, the, American, Civil, War]   \n",
       "19998                          [16, (, David, Nugent, )]   \n",
       "19999               [List, of, regional, mammals, lists]   \n",
       "\n",
       "                                                ner_tags  \\\n",
       "0                      [3, 4, 0, 3, 4, 4, 0, 0, 0, 0, 0]   \n",
       "1                                  [0, 0, 0, 1, 2, 0, 0]   \n",
       "2                                  [1, 2, 2, 0, 0, 0, 0]   \n",
       "3                                        [5, 6, 6, 6, 6]   \n",
       "4      [0, 0, 0, 0, 0, 0, 0, 1, 2, 0, 0, 0, 0, 0, 0, ...   \n",
       "...                                                  ...   \n",
       "19995                                    [1, 2, 0, 1, 2]   \n",
       "19996                                    [5, 0, 5, 0, 5]   \n",
       "19997                                 [5, 6, 6, 6, 6, 6]   \n",
       "19998                                    [0, 0, 1, 2, 0]   \n",
       "19999                                    [3, 4, 4, 4, 4]   \n",
       "\n",
       "                                                   langs  \n",
       "0           [en, en, en, en, en, en, en, en, en, en, en]  \n",
       "1                           [en, en, en, en, en, en, en]  \n",
       "2                           [en, en, en, en, en, en, en]  \n",
       "3                                   [en, en, en, en, en]  \n",
       "4      [en, en, en, en, en, en, en, en, en, en, en, e...  \n",
       "...                                                  ...  \n",
       "19995                               [en, en, en, en, en]  \n",
       "19996                               [en, en, en, en, en]  \n",
       "19997                           [en, en, en, en, en, en]  \n",
       "19998                               [en, en, en, en, en]  \n",
       "19999                               [en, en, en, en, en]  \n",
       "\n",
       "[20000 rows x 3 columns]"
      ]
     },
     "execution_count": 10,
     "metadata": {},
     "output_type": "execute_result"
    }
   ],
   "source": [
    "pd.DataFrame(en[\"train\"])"
   ]
  },
  {
   "cell_type": "code",
   "execution_count": 14,
   "metadata": {},
   "outputs": [
    {
     "data": {
      "text/html": [
       "<div>\n",
       "<style scoped>\n",
       "    .dataframe tbody tr th:only-of-type {\n",
       "        vertical-align: middle;\n",
       "    }\n",
       "\n",
       "    .dataframe tbody tr th {\n",
       "        vertical-align: top;\n",
       "    }\n",
       "\n",
       "    .dataframe thead th {\n",
       "        text-align: right;\n",
       "    }\n",
       "</style>\n",
       "<table border=\"1\" class=\"dataframe\">\n",
       "  <thead>\n",
       "    <tr style=\"text-align: right;\">\n",
       "      <th></th>\n",
       "      <th>0</th>\n",
       "      <th>1</th>\n",
       "      <th>2</th>\n",
       "      <th>3</th>\n",
       "      <th>4</th>\n",
       "      <th>5</th>\n",
       "      <th>6</th>\n",
       "    </tr>\n",
       "  </thead>\n",
       "  <tbody>\n",
       "    <tr>\n",
       "      <th>tokens</th>\n",
       "      <td>;</td>\n",
       "      <td>'</td>\n",
       "      <td>''</td>\n",
       "      <td>Anders</td>\n",
       "      <td>Lindström</td>\n",
       "      <td>''</td>\n",
       "      <td>'</td>\n",
       "    </tr>\n",
       "    <tr>\n",
       "      <th>ner_tags</th>\n",
       "      <td>0</td>\n",
       "      <td>0</td>\n",
       "      <td>0</td>\n",
       "      <td>1</td>\n",
       "      <td>2</td>\n",
       "      <td>0</td>\n",
       "      <td>0</td>\n",
       "    </tr>\n",
       "    <tr>\n",
       "      <th>langs</th>\n",
       "      <td>en</td>\n",
       "      <td>en</td>\n",
       "      <td>en</td>\n",
       "      <td>en</td>\n",
       "      <td>en</td>\n",
       "      <td>en</td>\n",
       "      <td>en</td>\n",
       "    </tr>\n",
       "  </tbody>\n",
       "</table>\n",
       "</div>"
      ],
      "text/plain": [
       "           0   1   2       3          4   5   6\n",
       "tokens     ;   '  ''  Anders  Lindström  ''   '\n",
       "ner_tags   0   0   0       1          2   0   0\n",
       "langs     en  en  en      en         en  en  en"
      ]
     },
     "execution_count": 14,
     "metadata": {},
     "output_type": "execute_result"
    }
   ],
   "source": [
    "pd.DataFrame(en[\"train\"][1]).T"
   ]
  },
  {
   "cell_type": "code",
   "execution_count": 19,
   "metadata": {},
   "outputs": [
    {
     "data": {
      "text/plain": [
       "{'tokens': [';', \"'\", \"''\", 'Anders', 'Lindström', \"''\", \"'\"],\n",
       " 'ner_tags': [0, 0, 0, 1, 2, 0, 0],\n",
       " 'langs': ['en', 'en', 'en', 'en', 'en', 'en', 'en']}"
      ]
     },
     "execution_count": 19,
     "metadata": {},
     "output_type": "execute_result"
    }
   ],
   "source": [
    "en[\"train\"][1]"
   ]
  },
  {
   "cell_type": "code",
   "execution_count": 18,
   "metadata": {},
   "outputs": [
    {
     "data": {
      "text/plain": [
       "\"; ' '' Anders Lindström '' '\""
      ]
     },
     "execution_count": 18,
     "metadata": {},
     "output_type": "execute_result"
    }
   ],
   "source": [
    "\" \".join(en[\"train\"][1][\"tokens\"])"
   ]
  },
  {
   "cell_type": "code",
   "execution_count": 20,
   "metadata": {},
   "outputs": [
    {
     "data": {
      "text/plain": [
       "[0, 0, 0, 1, 2, 0, 0]"
      ]
     },
     "execution_count": 20,
     "metadata": {},
     "output_type": "execute_result"
    }
   ],
   "source": [
    "en[\"train\"][1][\"ner_tags\"]"
   ]
  },
  {
   "cell_type": "code",
   "execution_count": 21,
   "metadata": {},
   "outputs": [
    {
     "data": {
      "text/plain": [
       "['O', 'B-PER', 'I-PER', 'B-ORG', 'I-ORG', 'B-LOC', 'I-LOC']"
      ]
     },
     "execution_count": 21,
     "metadata": {},
     "output_type": "execute_result"
    }
   ],
   "source": [
    "en[\"train\"].features[\"ner_tags\"].feature.names"
   ]
  },
  {
   "cell_type": "code",
   "execution_count": null,
   "metadata": {},
   "outputs": [
    {
     "ename": "",
     "evalue": "",
     "output_type": "error",
     "traceback": [
      "\u001b[1;31mRunning cells with 'd:\\projects\\NER-Project\\env\\python.exe' requires the ipykernel package.\n",
      "\u001b[1;31mRun the following command to install 'ipykernel' into the Python environment. \n",
      "\u001b[1;31mCommand: 'conda install -p d:\\projects\\NER-Project\\env ipykernel --update-deps --force-reinstall'"
     ]
    }
   ],
   "source": [
    "from ner.entity.config_entity import DataIngestionConfig\n",
    "from ner.exception import CustomException\n",
    "from ner.logger import logging\n",
    "from ner.constant import *\n",
    "import sys,os\n",
    "from ner.utils import read_yaml_file\n",
    "\n",
    "class Configuration:\n",
    "    def __init__(self, config_file_path = CONFIG_FILE_PATH) -> None:\n",
    "        try:\n",
    "            logging.info(\"Reading yaml file.....\")\n",
    "            self.config_info = read_yaml_file(file_path=config_file_path)\n",
    "        except Exception as e:\n",
    "            raise CustomException(e,sys) from e    \n",
    "        \n",
    "    def get_data_ingestion_config(self)->DataIngestionConfig:\n",
    "        try:\n",
    "            artifacts_dir = os.path.join(ROOT_DIR,self.config_info[ARTIFACTS_DIR_KEY])\n",
    "            \n",
    "            dataset_name = self.config_info[DATA_INGESTION_KEY][DATASET_NAME]\n",
    "            subset_name = self.config_info[DATA_INGESTION_KEY][SUBSET_NAME]\n",
    "            data_store = os.path.join(artifacts_dir,self.config_info[DATA_STORE_KEY])\n",
    "            \n",
    "            data_ingestion_config = DataIngestionConfig(\n",
    "                dataset_name = dataset_name,\n",
    "                subset_name=subset_name,\n",
    "                data_path=data_store\n",
    "            )\n",
    "            \n",
    "            return data_ingestion_config\n",
    "            \n",
    "        except Exception as e:\n",
    "            raise CustomException(e,sys) from e\n",
    "            "
   ]
  },
  {
   "cell_type": "code",
   "execution_count": 1,
   "metadata": {},
   "outputs": [],
   "source": [
    "import os\n"
   ]
  },
  {
   "cell_type": "code",
   "execution_count": 2,
   "metadata": {},
   "outputs": [
    {
     "data": {
      "text/plain": [
       "'d:\\\\projects\\\\NER-Project\\\\research'"
      ]
     },
     "execution_count": 2,
     "metadata": {},
     "output_type": "execute_result"
    }
   ],
   "source": [
    "os.getcwd()"
   ]
  },
  {
   "cell_type": "code",
   "execution_count": 8,
   "metadata": {},
   "outputs": [],
   "source": [
    "os.chdir(\"..\")"
   ]
  },
  {
   "cell_type": "code",
   "execution_count": 9,
   "metadata": {},
   "outputs": [
    {
     "data": {
      "text/plain": [
       "'d:\\\\projects\\\\NER-Project'"
      ]
     },
     "execution_count": 9,
     "metadata": {},
     "output_type": "execute_result"
    }
   ],
   "source": [
    "os.getcwd()"
   ]
  },
  {
   "cell_type": "code",
   "execution_count": 11,
   "metadata": {},
   "outputs": [],
   "source": [
    "from ner.entity.config_entity import DataIngestionConfig\n",
    "from ner.exception import CustomException\n",
    "from ner.logger import logging\n",
    "from ner.constant import *\n",
    "from from_root import from_root\n",
    "import sys,os\n",
    "from ner.utils import read_yaml_file"
   ]
  },
  {
   "cell_type": "code",
   "execution_count": 12,
   "metadata": {},
   "outputs": [],
   "source": [
    "config_file_path =  CONFIG_FILE_PATH"
   ]
  },
  {
   "cell_type": "code",
   "execution_count": 13,
   "metadata": {},
   "outputs": [],
   "source": [
    "config_info = read_yaml_file(file_path=config_file_path)"
   ]
  },
  {
   "cell_type": "code",
   "execution_count": 14,
   "metadata": {},
   "outputs": [
    {
     "data": {
      "text/plain": [
       "{'artifacts': 'artifacts',\n",
       " 'data_ingestion_config': {'data_store': 'data',\n",
       "  'dataset_name': 'xtreme',\n",
       "  'subset_name': 'PAN-X.en'}}"
      ]
     },
     "execution_count": 14,
     "metadata": {},
     "output_type": "execute_result"
    }
   ],
   "source": [
    "config_info"
   ]
  },
  {
   "cell_type": "code",
   "execution_count": 16,
   "metadata": {},
   "outputs": [
    {
     "data": {
      "text/plain": [
       "'data'"
      ]
     },
     "execution_count": 16,
     "metadata": {},
     "output_type": "execute_result"
    }
   ],
   "source": [
    "config_info[DATA_INGESTION_KEY][DATA_STORE_KEY]"
   ]
  },
  {
   "cell_type": "code",
   "execution_count": 17,
   "metadata": {},
   "outputs": [
    {
     "data": {
      "text/plain": [
       "'data'"
      ]
     },
     "execution_count": 17,
     "metadata": {},
     "output_type": "execute_result"
    }
   ],
   "source": [
    "config_info[DATA_INGESTION_KEY][DATA_STORE_KEY]"
   ]
  },
  {
   "cell_type": "code",
   "execution_count": null,
   "metadata": {},
   "outputs": [],
   "source": []
  }
 ],
 "metadata": {
  "kernelspec": {
   "display_name": "Python 3",
   "language": "python",
   "name": "python3"
  },
  "language_info": {
   "codemirror_mode": {
    "name": "ipython",
    "version": 3
   },
   "file_extension": ".py",
   "mimetype": "text/x-python",
   "name": "python",
   "nbconvert_exporter": "python",
   "pygments_lexer": "ipython3",
   "version": "3.8.17"
  },
  "orig_nbformat": 4
 },
 "nbformat": 4,
 "nbformat_minor": 2
}
